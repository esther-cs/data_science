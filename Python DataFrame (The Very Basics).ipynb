{
 "cells": [
  {
   "cell_type": "code",
   "execution_count": 14,
   "metadata": {},
   "outputs": [],
   "source": [
    "import pandas as pd\n",
    "import numpy as np"
   ]
  },
  {
   "cell_type": "code",
   "execution_count": 15,
   "metadata": {},
   "outputs": [
    {
     "name": "stdout",
     "output_type": "stream",
     "text": [
      "Empty DataFrame\n",
      "Columns: []\n",
      "Index: [] \n",
      "\n"
     ]
    }
   ],
   "source": [
    "#Create an Empty DataFrame\n",
    "empty_df=pd.DataFrame()\n",
    "print(empty_df,'\\n')"
   ]
  },
  {
   "cell_type": "code",
   "execution_count": 16,
   "metadata": {},
   "outputs": [],
   "source": [
    "syntax=pd.DataFrame(data=None, index=None, columns=None, dtype=None)"
   ]
  },
  {
   "cell_type": "code",
   "execution_count": 17,
   "metadata": {},
   "outputs": [
    {
     "name": "stdout",
     "output_type": "stream",
     "text": [
      "df:\n",
      "      0\n",
      "0  100\n",
      "1  101\n",
      "2  102\n",
      "3  103\n",
      "4  104\n"
     ]
    }
   ],
   "source": [
    "#DataFrame from an Array\n",
    "array=np.arange(100,105,1)\n",
    "df=pd.DataFrame(data=array)\n",
    "print('df:\\n',df)"
   ]
  },
  {
   "cell_type": "code",
   "execution_count": 18,
   "metadata": {},
   "outputs": [
    {
     "name": "stdout",
     "output_type": "stream",
     "text": [
      "df: \n",
      "     0\n",
      "0  es\n",
      "1  th\n",
      "2  er\n"
     ]
    }
   ],
   "source": [
    "#DataFrame from a Single List\n",
    "esther=['es','th','er']\n",
    "df=pd.DataFrame(data=esther)\n",
    "print('df: \\n',df)"
   ]
  },
  {
   "cell_type": "code",
   "execution_count": 19,
   "metadata": {},
   "outputs": [
    {
     "name": "stdout",
     "output_type": "stream",
     "text": [
      "df: \n",
      "                 0     1     2\n",
      "0              es    th    er\n",
      "1  [[1, 2, 3, 4]]  None  None\n",
      "2          [1, 2]  None  None\n",
      "3          [1, 2]   [1]  None\n",
      "4               1  None  None\n"
     ]
    }
   ],
   "source": [
    "#DataFrame from a Nested list\n",
    "esther=['es','th','er']\n",
    "hello=[1,2,3,4]\n",
    "A1=[1,2]\n",
    "A2=[1]\n",
    "esther_or=[esther,[[hello]],[A1],[A1,A2],A2]\n",
    "df=pd.DataFrame(data=esther_or)\n",
    "print('df: \\n',df)"
   ]
  },
  {
   "cell_type": "code",
   "execution_count": 21,
   "metadata": {},
   "outputs": [
    {
     "name": "stdout",
     "output_type": "stream",
     "text": [
      "df: \n",
      "       Column 1      Column 2\n",
      "Row 1   [1, 2]          None\n",
      "Row 2      [1]          None\n",
      "Row 3   [1, 2]  [1, 2, 3, 4]\n"
     ]
    }
   ],
   "source": [
    "#specify row & column headings in a DataFrame\n",
    "esther_or=[[A1],[A2],[A1,hello]]\n",
    "df=pd.DataFrame(data=esther_or, index=[\"Row 1\",\"Row 2\",\"Row 3\"], columns=['Column 1','Column 2'])\n",
    "print(\"df: \\n\",df)"
   ]
  },
  {
   "cell_type": "code",
   "execution_count": 24,
   "metadata": {},
   "outputs": [
    {
     "name": "stdout",
     "output_type": "stream",
     "text": [
      "df: \n",
      "             100  101  102  103  104\n",
      "0             1  2.0  3.0  4.0  5.0\n",
      "1        [1, 2]  NaN  NaN  NaN  NaN\n",
      "2           [1]  NaN  NaN  NaN  NaN\n",
      "3  [1, 2, 3, 4]  NaN  NaN  NaN  NaN\n"
     ]
    }
   ],
   "source": [
    "#Another Example of DataFrame from a Nested List\n",
    "array=np.arange(100,105,1)\n",
    "list=[[1,2,3,4,5],[A1],[A2],[hello]]\n",
    "df=pd.DataFrame(data=list,columns=array)\n",
    "print(\"df: \\n\",df)"
   ]
  },
  {
   "cell_type": "code",
   "execution_count": null,
   "metadata": {},
   "outputs": [],
   "source": []
  }
 ],
 "metadata": {
  "kernelspec": {
   "display_name": "Python 3",
   "language": "python",
   "name": "python3"
  },
  "language_info": {
   "codemirror_mode": {
    "name": "ipython",
    "version": 3
   },
   "file_extension": ".py",
   "mimetype": "text/x-python",
   "name": "python",
   "nbconvert_exporter": "python",
   "pygments_lexer": "ipython3",
   "version": "3.8.3"
  }
 },
 "nbformat": 4,
 "nbformat_minor": 4
}
